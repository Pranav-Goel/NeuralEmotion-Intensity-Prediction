{
 "cells": [
  {
   "cell_type": "markdown",
   "metadata": {
    "collapsed": true
   },
   "source": [
    "### This is a small script that takes the csv files containing the 43 dimensional lexicon-based features and just converts them into numpy vectors and stores them, for ease of use in the actual codes. Most of the work is done by following the instruction in intermediate_files/lexicons/README.md. It is necessary to successfully follow those instructions first, before executing this script."
   ]
  },
  {
   "cell_type": "code",
   "execution_count": null,
   "metadata": {
    "collapsed": true
   },
   "outputs": [],
   "source": [
    "import numpy as np\n",
    "import pandas as pd"
   ]
  },
  {
   "cell_type": "code",
   "execution_count": null,
   "metadata": {},
   "outputs": [],
   "source": [
    "train_anger = pd.read_csv('../../intermediate_files/lexicons/train/anger.csv').values\n",
    "train_fear = pd.read_csv('../../intermediate_files/lexicons/train/fear.csv').values\n",
    "train_joy = pd.read_csv('../../intermediate_files/lexicons/train/joy.csv').values\n",
    "train_sadness = pd.read_csv('../../intermediate_files/lexicons/train/sadness.csv').values"
   ]
  },
  {
   "cell_type": "code",
   "execution_count": null,
   "metadata": {
    "collapsed": true
   },
   "outputs": [],
   "source": [
    "dev_anger = pd.read_csv('../../intermediate_files/lexicons/dev/anger.csv').values\n",
    "dev_fear = pd.read_csv('../../intermediate_files/lexicons/dev/fear.csv').values\n",
    "dev_joy = pd.read_csv('../../intermediate_files/lexicons/dev/joy.csv').values\n",
    "dev_sadness = pd.read_csv('../../intermediate_files/lexicons/dev/sadness.csv').values"
   ]
  },
  {
   "cell_type": "code",
   "execution_count": null,
   "metadata": {
    "collapsed": true
   },
   "outputs": [],
   "source": [
    "test_anger = pd.read_csv('../../intermediate_files/lexicons/test/anger.csv').values\n",
    "test_fear = pd.read_csv('../../intermediate_files/lexicons/test/fear.csv').values\n",
    "test_joy = pd.read_csv('../../intermediate_files/lexicons/test/joy.csv').values\n",
    "test_sadness = pd.read_csv('../../intermediate_files/lexicons/test/sadness.csv').values"
   ]
  },
  {
   "cell_type": "code",
   "execution_count": null,
   "metadata": {
    "collapsed": true
   },
   "outputs": [],
   "source": [
    "np.save('../../intermediate_files/lexicon_vectors/train/anger.npy',train_anger)\n",
    "np.save('../../intermediate_files/lexicon_vectors/train/fear.npy',train_fear)\n",
    "np.save('../../intermediate_files/lexicon_vectors/train/joy.npy',train_joy)\n",
    "np.save('../../intermediate_files/lexicon_vectors/train/sadness.npy',train_sadness)        "
   ]
  },
  {
   "cell_type": "code",
   "execution_count": null,
   "metadata": {
    "collapsed": true
   },
   "outputs": [],
   "source": [
    "np.save('../../intermediate_files/lexicon_vectors/dev/anger.npy',dev_anger)\n",
    "np.save('../../intermediate_files/lexicon_vectors/dev/fear.npy',dev_fear)\n",
    "np.save('../../intermediate_files/lexicon_vectors/dev/joy.npy',dev_joy)\n",
    "np.save('../../intermediate_files/lexicon_vectors/dev/sadness.npy',dev_sadness)        "
   ]
  },
  {
   "cell_type": "code",
   "execution_count": null,
   "metadata": {
    "collapsed": true
   },
   "outputs": [],
   "source": [
    "np.save('../../intermediate_files/lexicon_vectors/test/anger.npy',test_anger)\n",
    "np.save('../../intermediate_files/lexicon_vectors/test/fear.npy',test_fear)\n",
    "np.save('../../intermediate_files/lexicon_vectors/test/joy.npy',test_joy)\n",
    "np.save('../../intermediate_files/lexicon_vectors/test/sadness.npy',test_sadness)        "
   ]
  }
 ],
 "metadata": {
  "kernelspec": {
   "display_name": "Python 3",
   "language": "python",
   "name": "python3"
  },
  "language_info": {
   "codemirror_mode": {
    "name": "ipython",
    "version": 3
   },
   "file_extension": ".py",
   "mimetype": "text/x-python",
   "name": "python",
   "nbconvert_exporter": "python",
   "pygments_lexer": "ipython3",
   "version": "3.6.1"
  }
 },
 "nbformat": 4,
 "nbformat_minor": 2
}
